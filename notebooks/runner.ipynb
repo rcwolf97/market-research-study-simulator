{
 "cells": [
  {
   "cell_type": "code",
   "execution_count": null,
   "id": "b62cd2c3",
   "metadata": {},
   "outputs": [],
   "source": [
    "import os, sys\n",
    "from dotenv import load_dotenv\n",
    "\n",
    "# Ensure repository root is importable for `import user_simulator`\n",
    "repo_root = os.path.abspath(\"..\")\n",
    "if repo_root not in sys.path:\n",
    "    sys.path.insert(0, repo_root)\n",
    "\n",
    "load_dotenv(os.path.join(repo_root, \".env\"))"
   ]
  },
  {
   "cell_type": "code",
   "execution_count": null,
   "id": "a3674804",
   "metadata": {},
   "outputs": [],
   "source": [
    "from user_simulator.study_designer import design_studies_for_population\n",
    "\n",
    "population = \"pulmonologists treating COPD patients within the US\"\n",
    "studies = design_studies_for_population(population)"
   ]
  },
  {
   "cell_type": "code",
   "execution_count": 2,
   "id": "f4efacf6",
   "metadata": {},
   "outputs": [],
   "source": [
    "import user_simulator as us\n",
    "sim = us.Simulator(\n",
    "    study=\"study_001\",\n",
    "    number_of_users=5,\n",
    "    user_population=\"Pulmonologist treating COPD patients in the US\",\n",
    "    simulation_id=\"test_001\"\n",
    ")"
   ]
  },
  {
   "cell_type": "code",
   "execution_count": null,
   "id": "9b1d88fc",
   "metadata": {},
   "outputs": [],
   "source": [
    "dialogue = await sim.simulate_conversation(0)"
   ]
  },
  {
   "cell_type": "code",
   "execution_count": null,
   "id": "9c7bacde",
   "metadata": {},
   "outputs": [],
   "source": []
  }
 ],
 "metadata": {
  "kernelspec": {
   "display_name": "aso_design",
   "language": "python",
   "name": "python3"
  },
  "language_info": {
   "codemirror_mode": {
    "name": "ipython",
    "version": 3
   },
   "file_extension": ".py",
   "mimetype": "text/x-python",
   "name": "python",
   "nbconvert_exporter": "python",
   "pygments_lexer": "ipython3",
   "version": "3.12.2"
  }
 },
 "nbformat": 4,
 "nbformat_minor": 5
}
